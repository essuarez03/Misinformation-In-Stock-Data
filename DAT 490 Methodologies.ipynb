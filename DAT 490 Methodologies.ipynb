{
 "cells": [
  {
   "cell_type": "code",
   "execution_count": 1,
   "metadata": {},
   "outputs": [],
   "source": [
    "# Import libraries\n",
    "import pandas as pd\n",
    "import matplotlib.pyplot as plt\n",
    "import seaborn as sns\n",
    "from sklearn.model_selection import train_test_split\n",
    "from sklearn.feature_extraction.text import TfidfVectorizer\n",
    "from sklearn.linear_model import LogisticRegression\n",
    "from sklearn.pipeline import Pipeline\n",
    "from sklearn.metrics import classification_report, confusion_matrix, ConfusionMatrixDisplay"
   ]
  },
  {
   "cell_type": "code",
   "execution_count": null,
   "metadata": {},
   "outputs": [],
   "source": [
    "# Load datasets\n",
    "fake_real_news_df = pd.read_csv(\"fake_and_real_news.csv\")\n",
    "scraped_stock_news_df = pd.read_csv(\"scraped_stocks_news.csv\")"
   ]
  },
  {
   "cell_type": "code",
   "execution_count": 3,
   "metadata": {},
   "outputs": [],
   "source": [
    "# Prepare training data\n",
    "X = fake_real_news_df[\"Text\"]\n",
    "y = fake_real_news_df[\"label\"]\n",
    "\n",
    "# Train-test split\n",
    "X_train, X_test, y_train, y_test = train_test_split(X, y, test_size=0.2, random_state=42)\n",
    "\n",
    "# TF-IDF and Logistic Regression\n",
    "pipeline = Pipeline([\n",
    "    ('tfidf', TfidfVectorizer(stop_words='english', max_df=0.7)),\n",
    "    ('clf', LogisticRegression(max_iter=1000))\n",
    "])"
   ]
  },
  {
   "cell_type": "code",
   "execution_count": 4,
   "metadata": {},
   "outputs": [
    {
     "data": {
      "text/plain": [
       "<Figure size 600x500 with 0 Axes>"
      ]
     },
     "metadata": {},
     "output_type": "display_data"
    },
    {
     "data": {
      "image/png": "[encoded data removed]",
      "text/plain": [
       "<Figure size 640x480 with 2 Axes>"
      ]
     },
     "metadata": {},
     "output_type": "display_data"
    },
    {
     "data": {
      "text/plain": [
       "'              precision    recall  f1-score   support\\n\\n        Fake       0.99      0.99      0.99       973\\n        Real       0.99      0.99      0.99      1007\\n\\n    accuracy                           0.99      1980\\n   macro avg       0.99      0.99      0.99      1980\\nweighted avg       0.99      0.99      0.99      1980\\n'"
      ]
     },
     "execution_count": 4,
     "metadata": {},
     "output_type": "execute_result"
    }
   ],
   "source": [
    "# Train model\n",
    "pipeline.fit(X_train, y_train)\n",
    "\n",
    "# Evaluate on test set\n",
    "y_pred = pipeline.predict(X_test)\n",
    "\n",
    "# Compute confusion matrix\n",
    "cm = confusion_matrix(y_test, y_pred, labels=[\"Fake\", \"Real\"])\n",
    "\n",
    "# Plot confusion matrix\n",
    "disp = ConfusionMatrixDisplay(confusion_matrix=cm, display_labels=[\"Fake\", \"Real\"])\n",
    "plt.figure(figsize=(6, 5))\n",
    "disp.plot(cmap=\"Blues\", values_format='d')\n",
    "plt.title(\"Confusion Matrix: Fake vs Real News Classification\")\n",
    "plt.show()\n",
    "\n",
    "classification_report(y_test, y_pred)"
   ]
  },
  {
   "cell_type": "code",
   "execution_count": 5,
   "metadata": {},
   "outputs": [
    {
     "data": {
      "text/html": [
       "<div>\n",
       "<style scoped>\n",
       "    .dataframe tbody tr th:only-of-type {\n",
       "        vertical-align: middle;\n",
       "    }\n",
       "\n",
       "    .dataframe tbody tr th {\n",
       "        vertical-align: top;\n",
       "    }\n",
       "\n",
       "    .dataframe thead th {\n",
       "        text-align: right;\n",
       "    }\n",
       "</style>\n",
       "<table border=\"1\" class=\"dataframe\">\n",
       "  <thead>\n",
       "    <tr style=\"text-align: right;\">\n",
       "      <th></th>\n",
       "      <th>Stock</th>\n",
       "      <th>Date</th>\n",
       "      <th>Headline</th>\n",
       "      <th>Content</th>\n",
       "      <th>Label</th>\n",
       "    </tr>\n",
       "  </thead>\n",
       "  <tbody>\n",
       "    <tr>\n",
       "      <th>56</th>\n",
       "      <td>Darden Restaurants</td>\n",
       "      <td>4/20/2020</td>\n",
       "      <td>U.S. News &amp; World Report</td>\n",
       "      <td>Darden Restaurants, Inc. is a full-service res...</td>\n",
       "      <td>Real</td>\n",
       "    </tr>\n",
       "    <tr>\n",
       "      <th>0</th>\n",
       "      <td>Caesars Entertainment</td>\n",
       "      <td>4/13/2020</td>\n",
       "      <td>NaN</td>\n",
       "      <td>Shareholders of Caesars Entertainment would pr...</td>\n",
       "      <td>Fake</td>\n",
       "    </tr>\n",
       "    <tr>\n",
       "      <th>43</th>\n",
       "      <td>Devon Energy</td>\n",
       "      <td>4/17/2020</td>\n",
       "      <td>The Motley Fool</td>\n",
       "      <td>In a nutshell, Devon Energy is an excellent st...</td>\n",
       "      <td>Real</td>\n",
       "    </tr>\n",
       "    <tr>\n",
       "      <th>16</th>\n",
       "      <td>Carnival Corporation</td>\n",
       "      <td>4/15/2020</td>\n",
       "      <td>Carnival Corp. stock underperforms Tuesday whe...</td>\n",
       "      <td>Shares of Carnival Corp. shed 5.80% to $21.91 ...</td>\n",
       "      <td>Real</td>\n",
       "    </tr>\n",
       "    <tr>\n",
       "      <th>35</th>\n",
       "      <td>Diamondback Energy</td>\n",
       "      <td>4/17/2020</td>\n",
       "      <td>MarketWatch</td>\n",
       "      <td>Shares of Diamondback Energy Inc. FANG slid 4....</td>\n",
       "      <td>Real</td>\n",
       "    </tr>\n",
       "    <tr>\n",
       "      <th>13</th>\n",
       "      <td>APA Corporation</td>\n",
       "      <td>4/17/2020</td>\n",
       "      <td>Yahoo Finance</td>\n",
       "      <td>we are going to take a look at where APA Corpo...</td>\n",
       "      <td>Fake</td>\n",
       "    </tr>\n",
       "    <tr>\n",
       "      <th>27</th>\n",
       "      <td>Occidental Petroleum</td>\n",
       "      <td>4/17/2020</td>\n",
       "      <td>Nasdaq</td>\n",
       "      <td>OCCIDENTAL PETROLEUM CORP (OXY) is a large-cap...</td>\n",
       "      <td>Real</td>\n",
       "    </tr>\n",
       "    <tr>\n",
       "      <th>25</th>\n",
       "      <td>Occidental Petroleum</td>\n",
       "      <td>4/17/2020</td>\n",
       "      <td>Occidental Petroleum Stock Falls After Q4 Reve...</td>\n",
       "      <td>Occidental Petroleum (OXY) shares fell 1% afte...</td>\n",
       "      <td>Fake</td>\n",
       "    </tr>\n",
       "    <tr>\n",
       "      <th>51</th>\n",
       "      <td>Darden Restaurants</td>\n",
       "      <td>4/20/2020</td>\n",
       "      <td>NaN</td>\n",
       "      <td>Darden Restaurants shares led S&amp;P 500 gainers ...</td>\n",
       "      <td>Real</td>\n",
       "    </tr>\n",
       "    <tr>\n",
       "      <th>6</th>\n",
       "      <td>Caesars Entertainment</td>\n",
       "      <td>4/13/2020</td>\n",
       "      <td>Seeking Alpha</td>\n",
       "      <td>Caesars Entertainment (NASDAQ:CZR) edged highe...</td>\n",
       "      <td>Real</td>\n",
       "    </tr>\n",
       "  </tbody>\n",
       "</table>\n",
       "</div>"
      ],
      "text/plain": [
       "                    Stock       Date  \\\n",
       "56     Darden Restaurants  4/20/2020   \n",
       "0   Caesars Entertainment  4/13/2020   \n",
       "43           Devon Energy  4/17/2020   \n",
       "16   Carnival Corporation  4/15/2020   \n",
       "35     Diamondback Energy  4/17/2020   \n",
       "13        APA Corporation  4/17/2020   \n",
       "27   Occidental Petroleum  4/17/2020   \n",
       "25   Occidental Petroleum  4/17/2020   \n",
       "51     Darden Restaurants  4/20/2020   \n",
       "6   Caesars Entertainment  4/13/2020   \n",
       "\n",
       "                                             Headline  \\\n",
       "56                           U.S. News & World Report   \n",
       "0                                                 NaN   \n",
       "43                                    The Motley Fool   \n",
       "16  Carnival Corp. stock underperforms Tuesday whe...   \n",
       "35                                        MarketWatch   \n",
       "13                                      Yahoo Finance   \n",
       "27                                             Nasdaq   \n",
       "25  Occidental Petroleum Stock Falls After Q4 Reve...   \n",
       "51                                                NaN   \n",
       "6                                       Seeking Alpha   \n",
       "\n",
       "                                              Content Label  \n",
       "56  Darden Restaurants, Inc. is a full-service res...  Real  \n",
       "0   Shareholders of Caesars Entertainment would pr...  Fake  \n",
       "43  In a nutshell, Devon Energy is an excellent st...  Real  \n",
       "16  Shares of Carnival Corp. shed 5.80% to $21.91 ...  Real  \n",
       "35  Shares of Diamondback Energy Inc. FANG slid 4....  Real  \n",
       "13  we are going to take a look at where APA Corpo...  Fake  \n",
       "27  OCCIDENTAL PETROLEUM CORP (OXY) is a large-cap...  Real  \n",
       "25  Occidental Petroleum (OXY) shares fell 1% afte...  Fake  \n",
       "51  Darden Restaurants shares led S&P 500 gainers ...  Real  \n",
       "6   Caesars Entertainment (NASDAQ:CZR) edged highe...  Real  "
      ]
     },
     "execution_count": 5,
     "metadata": {},
     "output_type": "execute_result"
    }
   ],
   "source": [
    "# Clean and predict on scraped stock news\n",
    "scraped_clean = scraped_stock_news_df.dropna(subset=['Content']).copy()\n",
    "scraped_clean = scraped_clean.drop(\"URL\", axis=1)\n",
    "scraped_clean[\"Label\"] = pipeline.predict(scraped_clean[\"Content\"])\n",
    "\n",
    "scraped_clean.sample(10)"
   ]
  },
  {
   "cell_type": "code",
   "execution_count": 6,
   "metadata": {},
   "outputs": [
    {
     "data": {
      "image/png": "[encoded data removed]",
      "text/plain": [
       "<Figure size 600x400 with 1 Axes>"
      ]
     },
     "metadata": {},
     "output_type": "display_data"
    }
   ],
   "source": [
    "# Count of predicted labels\n",
    "label_counts = scraped_clean[\"Label\"].value_counts()\n",
    "\n",
    "# Plot: Bar chart of predicted labels\n",
    "plt.figure(figsize=(6, 4))\n",
    "sns.barplot(x=label_counts.index, y=label_counts.values)\n",
    "plt.title(\"Predicted Fake vs Real News in Web Scraped Articles\")\n",
    "plt.ylabel(\"Number of Articles\")\n",
    "plt.tight_layout()\n",
    "plt.show()"
   ]
  }
 ],
 "metadata": {
  "kernelspec": {
   "display_name": "Python 3",
   "language": "python",
   "name": "python3"
  },
  "language_info": {
   "codemirror_mode": {
    "name": "ipython",
    "version": 3
   },
   "file_extension": ".py",
   "mimetype": "text/x-python",
   "name": "python",
   "nbconvert_exporter": "python",
   "pygments_lexer": "ipython3",
   "version": "3.11.9"
  }
 },
 "nbformat": 4,
 "nbformat_minor": 2
}
